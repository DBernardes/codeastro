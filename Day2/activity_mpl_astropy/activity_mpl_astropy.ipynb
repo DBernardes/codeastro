{
 "cells": [
  {
   "attachments": {},
   "cell_type": "markdown",
   "metadata": {},
   "source": [
    "# Activity: `Matplotlib` & `Astropy`"
   ]
  },
  {
   "attachments": {},
   "cell_type": "markdown",
   "metadata": {},
   "source": [
    "This activity aims to review some key elements of two useful Python packages for astronomy.\n",
    "\n",
    "@P. Palma-Bifani\n",
    "\n",
    "----- \n",
    "##### Timing:\n",
    "- Matplotlib (**10'**)\n",
    "- Activity 1 (**10'**)\n",
    "- Astropy (**15'**)\n",
    "- Activity 2 (**20'**)\n",
    "- Closing (**5'**)\n",
    "\n",
    "\n",
    "##### Roles for the activities:\n",
    "- **Driver** (person who likes chocolate the most)\n",
    "- **Moderator** (person who likes chocolate the least)\n",
    "- **Navigators** (>= 1 person)\n",
    "\n",
    "\n",
    "\n",
    "----- \n",
    "-----\n",
    "### 1. `matplotlib.pyplot`\n",
    "\n",
    "`matplotlib.pyplot` is a complete graphics module often used by Python developers. Check out [this gallery](https://matplotlib.org/gallery.html) to understand what you can do with pyplot.\n",
    "\n",
    "This is by no means a comprehensive tutorial, but it will point out a few important things about `matplotlib.pyplot` objects and give advice about incorporating plotting functionality in your open-source astronomy software. There are other (excellent) plotting tools in astronomy, like Plotly, and Bokeh, but we will only discuss `matplotlib.pyplot` here.\n",
    "\n",
    "---- \n",
    "**A state** \n",
    "\n",
    "`matplotlib.pyplot` relies on the **changing state** concept. The **state** of a programming environment is what determines the program's behavior. For example, when you type:\n",
    "\n",
    "``` >> import orbitize```\n",
    "\n",
    "You are modifying your environment's state. \n",
    "\n",
    "Before you typed ```import orbitize```, if you tried to run something like ```orbitize.plot.OrbitPlot()```, you would get an import error. However, in running the import command, you modified the state of your environment, and when you try ```orbitize.plot.OrbitPlot()```, you'll get something totally different! \n",
    "\n",
    "Nothing about the ```orbitize.plot.OrbitPlot()``` code changed, but because your environment's **state** changed, the output also changed.\n",
    "\n",
    "The following sketch represents this idea visualy:\n",
    "\n",
    "![](imgs/state_concept.jpeg)\n",
    "\n",
    "\n",
    "A final excellent example of this concept as it applies to matplotlib is the `matplotlib.rcParams` object, which is like a dictionary that controls the default behaviors of matplotlib plots. When you type:\n",
    "\n",
    "```>> import matplotlib```\n",
    "\n",
    "The `matplotlib.rcParams` object is automatically defined with default values. This is how, for example, matplotlib knows how large to make fonts and figures. \n",
    "\n",
    "It also means that you can control the default behavior of matplotlib plots by updating the state via `matplotlib.rcParams`.\n",
    "\n",
    "-----\n",
    "Well, too many words...\n",
    "\n",
    "![](imgs/import_plt.jpeg)\n",
    "\n"
   ]
  },
  {
   "cell_type": "code",
   "execution_count": null,
   "metadata": {},
   "outputs": [],
   "source": [
    "import numpy as np\n",
    "\n",
    "import matplotlib.pyplot as plt\n",
    "from matplotlib import rcParams\n"
   ]
  },
  {
   "attachments": {},
   "cell_type": "markdown",
   "metadata": {},
   "source": [
    "\n",
    "The basic \"unit\" of `matplotlib.pyplot` is [the `Figure` object](https://matplotlib.org/stable/api/_as_gen/matplotlib.pyplot.figure.html), which acts as a container for all the other plot elements. "
   ]
  },
  {
   "cell_type": "code",
   "execution_count": null,
   "metadata": {},
   "outputs": [],
   "source": [
    "### make a plot\n",
    "plt.figure(figsize=(5,4))\n",
    "plt.title('The default font size is {}.'.format(rcParams['font.size']))\n",
    "plt.xlabel('foo'); plt.ylabel('bar')\n",
    "plt.show()\n"
   ]
  },
  {
   "attachments": {},
   "cell_type": "markdown",
   "metadata": {},
   "source": [
    "We'll start by using the `update()` method of `matplotlib.rcParams` to change the default font size and the [overall style](https://matplotlib.org/stable/gallery/style_sheets/style_sheets_reference.html).\n"
   ]
  },
  {
   "cell_type": "code",
   "execution_count": null,
   "metadata": {},
   "outputs": [],
   "source": [
    "### update the current state. \n",
    "### This command doesn't have any output! \n",
    "rcParams.update({'font.size': 22})\n",
    "\n",
    "### update the style\n",
    "#print(plt.style.available)\n",
    "#plt.style.use(\"dark_background\")\n",
    "\n",
    "# make another plot\n",
    "plt.figure(figsize=(5,4))\n",
    "plt.title('The default font size is {}.'.format(rcParams['font.size']))\n",
    "plt.xlabel('foo'); plt.ylabel('bar', fontsize=10)\n",
    "plt.show()"
   ]
  },
  {
   "cell_type": "code",
   "execution_count": null,
   "metadata": {},
   "outputs": [],
   "source": [
    "### update the current state again\n",
    "rcParams.update({'font.size': 12})"
   ]
  },
  {
   "attachments": {},
   "cell_type": "markdown",
   "metadata": {},
   "source": [
    "As you can see, `matplotlib` decides on a default font size by checking the *current* value of the state parameter `rcParams['font.size']`, but this is always overwritten if you pass in a keyword (in this case, the font size of the y axis label).\n",
    "\n",
    "You can modify several other parameters, as for example the default colors, linestyle, figure size, etc. \n",
    "\n",
    "Check [the documentation here](https://matplotlib.org/stable/tutorials/introductory/customizing.html) for more details.\n",
    "\n",
    "----"
   ]
  },
  {
   "attachments": {},
   "cell_type": "markdown",
   "metadata": {},
   "source": [
    "A matplotlib `Figure` relies on the same **state** idea.\n",
    "\n",
    "The current figure changes (i.e. the *state* is updated) when you initialize a new `Figure` object. Unless you specify a particular `Figure` object, `plt.___()` functions will always add to the current `Figure` object. That is a nice feature-- it makes it easy to add multiple types of plots onto the same figure.\n",
    "\n",
    "Let's look at another way to initialize a new `Figure` object:"
   ]
  },
  {
   "cell_type": "code",
   "execution_count": null,
   "metadata": {},
   "outputs": [],
   "source": [
    "x = np.array([1, 2, 3, 4])\n",
    "y = np.array([1, 4, 9, 16])\n",
    "y_error = np.array([5, 1.2, 2, 5])\n",
    "\n",
    "fig, ax = plt.subplots(nrows=1, ncols=2, figsize=(10, 4))\n",
    "\n",
    "ax[0].plot(x, y, color='grey')\n",
    "\n",
    "#ax[1].plot(x, y, color='red')\n",
    "#ax[1].set_yscale('log')\n",
    "\n",
    "print('fig type: {}'.format(type(fig)))\n",
    "print('ax type: {}'.format(type(ax)))\n",
    "print('ax[0] type: {}'.format(type(ax[0])))\n",
    "plt.show()"
   ]
  },
  {
   "attachments": {},
   "cell_type": "markdown",
   "metadata": {},
   "source": [
    "Here we've encountered another kind of object: [the `Axes` object](https://matplotlib.org/api/axes_api.html#matplotlib.axes.Axes). These objects are containers for all the plot elements *in a particular figure panel*. `Axes` are attributes of `Figure` objects:"
   ]
  },
  {
   "attachments": {},
   "cell_type": "markdown",
   "metadata": {},
   "source": [
    "Two useful methods to keep in mind are `plt.gca()` and `plt.sca()` (get/set current `Axes`). Let's see how they work:"
   ]
  },
  {
   "cell_type": "code",
   "execution_count": null,
   "metadata": {},
   "outputs": [],
   "source": [
    "fig, ax = plt.subplots(nrows=2, ncols=2, figsize=(8,6))\n",
    "\n",
    "mystery_axes = plt.gca()              # get current Axes\n",
    "mystery_axes.scatter(x, y, color='r', label='he')# acts on `mystery_axes`\n",
    "mystery_axes.scatter(x + 1, y + 1, color='white', label='llo')\n",
    "mystery_axes.legend(loc='lower right') #\n",
    "\n",
    "###\n",
    "#plt.sca(ax[0,0])        # set current Axes\n",
    "#plt.plot(x, y, ls='-.') # acts on current Axes\n",
    "\n",
    "###\n",
    "#plt.sca(ax[0,1])        # set current Axes\n",
    "#plt.plot(x, y, ls='-.') # acts on current Axes\n",
    "#plt.xticks([1,2.5,4])\n",
    "\n",
    "###\n",
    "#plt.sca(ax[1,0])        # set current Axes\n",
    "#plt.plot(x, y, ls='-.') # acts on current Axes\n",
    "#plt.xticks([1,2.5,4], labels=['low','mid','high'], rotation=45)\n",
    "#plt.text(1,15,'Great! :D')\n",
    "\n",
    "plt.tight_layout()      # prettify\n",
    "plt.show()"
   ]
  },
  {
   "attachments": {},
   "cell_type": "markdown",
   "metadata": {},
   "source": [
    "To learn more about modifying the legend aspect, you can [check this page](https://matplotlib.org/stable/api/_as_gen/matplotlib.axes.Axes.legend.html).\n",
    "\n",
    "------\n",
    "\n",
    "We can use `matplotlib.pyplot` to visualize 2D arrays, which means any image. \n",
    "\n",
    "For this, we can use `plt.imshow()`, which allows us to change many parameters. You can find the [documentation here](https://matplotlib.org/stable/api/_as_gen/matplotlib.pyplot.imshow.html).\n",
    "\n",
    "For this part, please download the data we will use [from here](https://drive.google.com/file/d/1EiDDAvpjZFt0quAaCfb4UOdEqapiXPKl/view?usp=share_link) and copy it to the same directory where this Jupiter notebook is located."
   ]
  },
  {
   "cell_type": "code",
   "execution_count": null,
   "metadata": {},
   "outputs": [],
   "source": [
    "magic_image = np.loadtxt('magic_image.txt')\n",
    "\n",
    "### A basic plot will look like this\n",
    "plt.figure(figsize=(4,4))\n",
    "plt.imshow(magic_image)\n",
    "plt.colorbar()\n",
    "plt.show()"
   ]
  },
  {
   "attachments": {},
   "cell_type": "markdown",
   "metadata": {},
   "source": [
    "We can make several changes. For this case we will take the axes off, change the colormap and save in different formats.\n",
    "\n",
    "\n",
    "To asign colors you can create your own maps, but there are [several good ones here](https://matplotlib.org/stable/tutorials/colors/colormaps.html)."
   ]
  },
  {
   "cell_type": "code",
   "execution_count": null,
   "metadata": {},
   "outputs": [],
   "source": [
    "plt.figure(figsize=(4,4))\n",
    "plt.imshow(magic_image, cmap='RdPu_r')\n",
    "\n",
    "### We can eliminate the ticks too\n",
    "#plt.xticks([]),plt.yticks([])\n",
    "\n",
    "### Avoid cutting labels.\n",
    "# plt.tight_layout() \n",
    "\n",
    "### save your plot\n",
    "### you can define the format. \n",
    "#file_name = 'logo_codeastro' # The extentions can be png, pdf, ps, eps, and svg\n",
    "#plt.savefig(file_name+'.png', dpi=None) # dpi sets the resolution in dots per inch.\n",
    "\n",
    "plt.show()"
   ]
  },
  {
   "attachments": {},
   "cell_type": "markdown",
   "metadata": {},
   "source": [
    "------\n",
    "#### `Activity #1`\n",
    "\n",
    "Let's practice working with `Figure` and `Axes` objects. \n",
    "\n",
    "Run the code snippet below to generate some orbits and plot them using `orbitize!`\n",
    "\n",
    "This code uses random sampling of a probability distribution to generate orbits consistent with data of a planet's position over time. \n",
    "\n",
    "Notice that the last line of this snippet returns the `Figure` object used to make the plot. This is good practice-- it lets your users more easily customize figures, just as you're about to do!\n",
    "\n",
    "Tasks:\n",
    "- Change the x-axis limits of the top right panel to 2011-2015.\n",
    "\n",
    "- Add a colored star at (0, 0) in the leftmost panel.\n",
    "\n",
    "- Change the dpi (dots per inch, a measure of resolution) of the Figure to 250.\n",
    "\n",
    "- Save the figure to your Desktop using [`plt.savefig()`](https://matplotlib.org/3.2.1/api/_as_gen/matplotlib.pyplot.savefig.html). \n",
    "\n",
    "- Paste your plots in [this Google Doc](https://docs.google.com/document/d/1KqO-EFO2PDdhoQN_A1_SivkQ8mpf5G4l2dAXELebvZ8/edit?usp=sharing) with your name and/or group number for everyone to admire!"
   ]
  },
  {
   "cell_type": "code",
   "execution_count": null,
   "metadata": {},
   "outputs": [],
   "source": [
    "import orbitize.driver\n",
    "\n",
    "### Let's go back to clasic plots style\n",
    "plt.style.use(\"default\")\n",
    "\n",
    "### set up fit\n",
    "myDriver = orbitize.driver.Driver(\n",
    "    '{}/GJ504.csv'.format(orbitize.DATADIR),\n",
    "    'OFTI', 1, 1.22, 56.95, mass_err=0.08, plx_err=0.26)\n",
    "s = myDriver.sampler\n",
    "\n",
    "### run orbitize!\n",
    "orbits = s.run_sampler(100)\n",
    "myResults = s.results\n",
    "\n",
    "### make plot\n",
    "epochs = myDriver.system.data_table['epoch']\n",
    "orbit_figure = myResults.plot_orbits(start_mjd=epochs[0])"
   ]
  },
  {
   "cell_type": "code",
   "execution_count": null,
   "metadata": {},
   "outputs": [],
   "source": []
  },
  {
   "attachments": {},
   "cell_type": "markdown",
   "metadata": {},
   "source": [
    "-----\n",
    "\n",
    "### General tips:\n",
    "\n",
    "- **Don't overengineer your plotting code.** \n",
    "\n",
    "You don't need to add a million keywords anticipating every possible tweak your users might wish to make. \n",
    "\n",
    "Focus on making it easy for your users to modify the code themselves. \n",
    "\n",
    "Make sure you return `Figure` and `Axes` objects (more on this below) to your user so they can easily modify plots.\n",
    "\n",
    "\n",
    "- **Apply principles of good design.** \n",
    "\n",
    "Use color palettes with lots of contrast, make your fonts large and easy-to-read, and make sure your plots are colorblind friendly. (There are several great colorblindness simulators out there, for example [this one](https://www.color-blindness.com/coblis-color-blindness-simulator/).) \n",
    "\n",
    "It's also good to differentiate plot elements in more than one way (ex: one line is black and dashed, another is red and solid). "
   ]
  },
  {
   "attachments": {},
   "cell_type": "markdown",
   "metadata": {},
   "source": [
    "------\n",
    "------\n",
    "### 2. `astropy`\n",
    "\n",
    "`astropy` is full of useful stuff for astronomers (perhaps unsurprisingly). \n",
    "\n",
    "The main point we want to drive home with this tutorial is **DON'T REINVENT THE WHEEL**. \n",
    "\n",
    "Before you write a new function, especially one that performs a common astronomical task, check whether an `astropy` developer wrote it for you. In fact, astropy accepts community contributions too.\n",
    "\n",
    "Below are some examples of a few particularly useful `astropy` features. Check out a more complete list of `astropy` tutorials [here](https://learn.astropy.org/). \n",
    "\n",
    "For the purpouse of this activity we will use some functions from `units`, `constants`, `io.fits`, `visualization`, and `utils.data`.\n",
    "\n",
    "\n",
    "------\n",
    "\n",
    "One of our favorite things about `astropy` is its ability to handle units and fundamental constants. \n",
    "\n",
    "Let's calculate the Earth's orbital velocity.\n"
   ]
  },
  {
   "cell_type": "code",
   "execution_count": null,
   "metadata": {},
   "outputs": [],
   "source": [
    "from astropy import constants as cst, units as u "
   ]
  },
  {
   "cell_type": "code",
   "execution_count": null,
   "metadata": {},
   "outputs": [],
   "source": [
    "v_Earth = np.sqrt( cst.G * cst.M_sun / (1 * u.au))\n",
    "\n",
    "v_Earth"
   ]
  },
  {
   "attachments": {},
   "cell_type": "markdown",
   "metadata": {},
   "source": [
    "Those units aren't very helpful. Let's convert them to more physical units.\n",
    "All available units can he [found here](https://docs.astropy.org/en/stable/units/index.html)."
   ]
  },
  {
   "cell_type": "code",
   "execution_count": null,
   "metadata": {},
   "outputs": [],
   "source": [
    "v_Earth_cgs = v_Earth.cgs\n",
    "#v_Earth_si = v_Earth.si\n",
    "#v_Earth_km_s = v_Earth.to(u.km/u.s)\n",
    "\n",
    "print(r\"Earth's orbital velocity: {:.1f}.\".format(v_Earth_cgs))\n",
    "#print(r\"Another way to put it: {:.1f}.\".format(v_Earth_si))\n",
    "#print(r\"Best way (in my opinion): {:.1f}.\".format(v_Earth_km_s))\n"
   ]
  },
  {
   "cell_type": "code",
   "execution_count": null,
   "metadata": {},
   "outputs": [],
   "source": [
    "print('Nicer format:')\n",
    "v_Earth_km_s"
   ]
  },
  {
   "attachments": {},
   "cell_type": "markdown",
   "metadata": {},
   "source": [
    "-----\n",
    "\n",
    "Next, a quick example with the second-worst bane of every astronomer's existence: coordinate systems. \n",
    "\n",
    "`astropy` has a great `coordinates` module that enables easy translation between coordinate systems. \n",
    "\n",
    "Note: if you are working with solar-sytem objects you must be very carfule with the reference system used by SkyCoord."
   ]
  },
  {
   "cell_type": "code",
   "execution_count": null,
   "metadata": {},
   "outputs": [],
   "source": [
    "from astropy.coordinates import SkyCoord\n",
    "\n",
    "### input coordinates as hour angle and degree\n",
    "my_coordinate = SkyCoord('00:42.5 +41:12', unit=(u.hourangle, u.deg))\n",
    "\n",
    "### access right ascension\n",
    "print('Right Ascension (ra), Declination (dec)')\n",
    "print(my_coordinate)\n",
    "\n",
    "### convert to galactocentric coordinates\n",
    "#print('Longitude (l), Latitude (b)')\n",
    "#print(my_coordinate.galactic)"
   ]
  },
  {
   "attachments": {},
   "cell_type": "markdown",
   "metadata": {},
   "source": [
    "----\n",
    "\n",
    "Now we will use astropy to read a `FITS` file and access its contents. \n",
    "\n",
    "**What is a `FITS` file?**\n",
    "\n",
    "FITS was originally developed in the late 1970's as an archive and interchange format for astronomical data files\n",
    "\n",
    "It is much more than just another image format (such as JPG or GIF) and is primarily designed to store scientific data sets consisting of multidimensional arrays and 2-dimensional tables containing rows and columns of data.\n",
    "\n",
    "A `FITS` file consists of one or more Header + Data Units (`HDU`)\n",
    "\n",
    "Every `HDU` consists of an ASCII formated **Header Unit** followed by an optional **Data Unit**, such as a 1-D spectrum, a 2-D image, or a 3-D data cube. \n",
    "\n",
    "Each **header unit** consists of any number of 80-character keyword records which have the general form:\n",
    "\n",
    "```>> KEYNAME = value / comment string```\n",
    "\n",
    "The purpose is to describe various aspects of the data, such as the date and time of the observation. \n",
    "\n",
    "![](imgs/fits.jpeg)\n",
    "\n",
    "**Example:**\n",
    "\n",
    "As an example, suppose you want to store a set of data containing images of the same object taken at 450, 600, and 700 nm wavelengths. \n",
    "\n",
    "FITS files allow you to store all of these images in one file (each one is stored in a different extension), along with relevant keywords (e.g. the name of the object, time of observation, etc) in the FITS file header. \n",
    "\n",
    "Feel free to Google around for more information about FITS files!"
   ]
  },
  {
   "cell_type": "code",
   "execution_count": null,
   "metadata": {},
   "outputs": [],
   "source": [
    "from astropy.io import fits"
   ]
  },
  {
   "cell_type": "code",
   "execution_count": null,
   "metadata": {},
   "outputs": [],
   "source": [
    "### open a test fits file\n",
    "fits_image_filename = fits.util.get_testdata_filepath('test0.fits')\n",
    "hdul = fits.open(fits_image_filename)\n",
    "\n",
    "### print a summary of the file contents\n",
    "print('\\n\\nINFO ABOUT FITS FILE:')\n",
    "print('---------------------')\n",
    "hdul.info()\n",
    "\n",
    "### print the contents of the .fits header\n",
    "#print('\\n\\nFITS HEADER:')\n",
    "#print('------------')\n",
    "#print(repr(hdul[0].header))\n",
    "\n",
    "### visualization\n",
    "#data = hdul[1].data\n",
    "#plt.imshow(data)\n",
    "#plt.show()\n",
    "\n",
    "# close the file\n",
    "hdul.close()"
   ]
  },
  {
   "attachments": {},
   "cell_type": "markdown",
   "metadata": {},
   "source": [
    "Note: When using `fits.open()`, it's important to close the file after you're finished with it to avoid taking up memory.\n",
    "\n",
    "You can avoid having to close the file yourself by using the `with` command."
   ]
  },
  {
   "cell_type": "code",
   "execution_count": null,
   "metadata": {},
   "outputs": [],
   "source": [
    "with fits.open(fits_image_filename) as hdul:\n",
    "    hdul.info()     # file is automatically closed when loop exits"
   ]
  },
  {
   "attachments": {},
   "cell_type": "markdown",
   "metadata": {},
   "source": [
    "------\n",
    "#### Activity #2\n",
    "\n",
    "Let's work with a `FITS` file and `astropy` \n",
    "\n",
    "Tasks:\n",
    "\n",
    "- Read the header and acces to RA, dec and pixelscale.\n",
    "\n",
    "- Change the plot axis units to RA and Dec and add labels to each axis, including units in latex format.\n",
    "\n",
    "- Find the name and coordinates of one of the 3 big galaxies. You can use [simbad](http://simbad.cds.unistra.fr).\n",
    "\n",
    "- Save the coordinates in the ICRS (ep=J2000) system and the K-band magnitude.\n",
    "\n",
    "- Point an arrow to each galaxy using `matplotlib.patches.Arrow` and write the name, coordinates and magnitude over the figure.\n",
    "\n",
    "- Paste your plots in [this Google Doc](https://docs.google.com/document/d/1KqO-EFO2PDdhoQN_A1_SivkQ8mpf5G4l2dAXELebvZ8/edit?usp=sharing) with your name and/or group number for everyone to admire!\n",
    "\n"
   ]
  },
  {
   "cell_type": "code",
   "execution_count": null,
   "metadata": {},
   "outputs": [],
   "source": [
    "from astropy.visualization import make_lupton_rgb\n",
    "from astropy.utils.data import get_pkg_data_filename"
   ]
  },
  {
   "attachments": {},
   "cell_type": "markdown",
   "metadata": {},
   "source": [
    "Info regarding this [example data](https://docs.astropy.org/en/stable/visualization/rgb.html) here.\n",
    "\n",
    "\n",
    "To transform the coordinates you need to identify the folowing parameters in the header:\n",
    "\n",
    "-- the size of your image (in pixels), \n",
    "\n",
    "-- the reference (x,y) pixels: (CRPIX1, CRPIX2),\n",
    "\n",
    "-- the reference pixel value in the new coordinates (CRVAL1,CRVAL2),\n",
    "\n",
    "-- and the pixel size in the new coordinates (CD1_1, CD2_1)\n",
    "\n",
    "Then you need to define the extent of the image, which means the value in new coordinates for the corners and you can use the `extent` key in `plt.imshow()` to transform the axes. Refer to the [documentation](https://matplotlib.org/stable/api/_as_gen/matplotlib.pyplot.imshow.html) for further details.\n",
    "\n"
   ]
  },
  {
   "cell_type": "code",
   "execution_count": null,
   "metadata": {},
   "outputs": [],
   "source": [
    "g_name = get_pkg_data_filename('visualization/reprojected_sdss_g.fits.bz2')\n",
    "g_head = fits.open(g_name)[0].header\n",
    "\n",
    "g_head"
   ]
  },
  {
   "cell_type": "code",
   "execution_count": null,
   "metadata": {},
   "outputs": [],
   "source": [
    "### Read in the three images downloaded from here:\n",
    "g_name = get_pkg_data_filename('visualization/reprojected_sdss_g.fits.bz2')\n",
    "r_name = get_pkg_data_filename('visualization/reprojected_sdss_r.fits.bz2')\n",
    "i_name = get_pkg_data_filename('visualization/reprojected_sdss_i.fits.bz2')\n",
    "\n",
    "### This is a 3-colors composed image\n",
    "g = fits.open(g_name)[0].data\n",
    "r = fits.open(r_name)[0].data\n",
    "i = fits.open(i_name)[0].data\n",
    "\n",
    "### We can play with the contrast and colors by changing ! and stretch values\n",
    "rgb = make_lupton_rgb(i, r, g, Q=10, stretch=0.1) \n",
    "\n",
    "### Now we create the plot\n",
    "plt.style.use(\"dark_background\")\n",
    "\n",
    "plt.figure(figsize=(6,4))\n",
    "\n",
    "plt.imshow(rgb, origin='lower') # In astronomy it is common to put the (0,0) pixel on the bottom-left corner\n",
    "\n",
    "plt.show()"
   ]
  },
  {
   "cell_type": "code",
   "execution_count": null,
   "metadata": {},
   "outputs": [],
   "source": []
  },
  {
   "attachments": {},
   "cell_type": "markdown",
   "metadata": {},
   "source": [
    "----\n",
    "-----\n",
    "\n",
    "Final important point: Don't be afraid to read the documentations, they are `useful`.\n",
    "\n",
    "Thanks for participating! \n",
    "\n",
    "![](imgs/matplotlib_meme.jpeg)\n",
    "\n"
   ]
  },
  {
   "attachments": {},
   "cell_type": "markdown",
   "metadata": {},
   "source": []
  }
 ],
 "metadata": {
  "kernelspec": {
   "display_name": "codeastro",
   "language": "python",
   "name": "python3"
  },
  "language_info": {
   "codemirror_mode": {
    "name": "ipython",
    "version": 3
   },
   "file_extension": ".py",
   "mimetype": "text/x-python",
   "name": "python",
   "nbconvert_exporter": "python",
   "pygments_lexer": "ipython3",
   "version": "3.10.11"
  },
  "orig_nbformat": 4
 },
 "nbformat": 4,
 "nbformat_minor": 2
}
